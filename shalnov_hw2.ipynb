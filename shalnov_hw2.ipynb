{
 "cells": [
  {
   "cell_type": "code",
   "execution_count": 2,
   "metadata": {},
   "outputs": [],
   "source": [
    "import pandas as pd\n",
    "import numpy as np\n",
    "from tqdm.notebook import tqdm as tqdm"
   ]
  },
  {
   "cell_type": "markdown",
   "metadata": {},
   "source": [
    "# 1"
   ]
  },
  {
   "cell_type": "code",
   "execution_count": 3,
   "metadata": {},
   "outputs": [],
   "source": [
    "players = pd.read_pickle('chgk/players.pkl')\n",
    "tournaments = pd.read_pickle('chgk/tournaments.pkl')\n",
    "results = pd.read_pickle('chgk/results.pkl')"
   ]
  },
  {
   "cell_type": "code",
   "execution_count": 4,
   "metadata": {},
   "outputs": [],
   "source": [
    "data_tournaments = pd.DataFrame(tournaments.values())"
   ]
  },
  {
   "cell_type": "code",
   "execution_count": 6,
   "metadata": {},
   "outputs": [],
   "source": [
    "train_tourn = []\n",
    "test_tourn = []\n",
    "\n",
    "for value in tournaments.values():\n",
    "    current_year = pd.to_datetime(value['dateStart']).year\n",
    "    \n",
    "    if current_year == 2019:\n",
    "        train_tourn.append(value)\n",
    "    if current_year == 2020:\n",
    "        test_tourn.append(value)"
   ]
  },
  {
   "cell_type": "code",
   "execution_count": 7,
   "metadata": {},
   "outputs": [
    {
     "data": {
      "text/plain": [
       "(687, 418)"
      ]
     },
     "execution_count": 7,
     "metadata": {},
     "output_type": "execute_result"
    }
   ],
   "source": [
    "len(train_tourn), len(test_tourn) # После фильтрации по годам "
   ]
  },
  {
   "cell_type": "code",
   "execution_count": 8,
   "metadata": {},
   "outputs": [],
   "source": [
    "def check_None_data(train_tourn):\n",
    "    train = []\n",
    "    \n",
    "    for value in train_tourn:\n",
    "        tournament_id = value['id']\n",
    "        info = results[tournament_id]\n",
    "        if info:\n",
    "            count_num = 0\n",
    "            for num in info:\n",
    "                mask = num.get('mask', None)\n",
    "                team = num.get('teamMembers', None)\n",
    "                if (mask is not None) and (team is not None):\n",
    "                    count_num += 1\n",
    "\n",
    "            if count_num == len(info):\n",
    "                train.append(value)\n",
    "    \n",
    "    return train"
   ]
  },
  {
   "cell_type": "code",
   "execution_count": 9,
   "metadata": {},
   "outputs": [],
   "source": [
    "train = check_None_data(train_tourn)\n",
    "test = check_None_data(test_tourn)"
   ]
  },
  {
   "cell_type": "code",
   "execution_count": 10,
   "metadata": {},
   "outputs": [
    {
     "data": {
      "text/plain": [
       "(671, 169)"
      ]
     },
     "execution_count": 10,
     "metadata": {},
     "output_type": "execute_result"
    }
   ],
   "source": [
    "len(train), len(test) # После филтрации по пустым маскам и членов команды"
   ]
  },
  {
   "cell_type": "markdown",
   "metadata": {},
   "source": [
    "# 2"
   ]
  },
  {
   "cell_type": "markdown",
   "metadata": {},
   "source": [
    "Получим завивсимость игрок-вопрос-ответ"
   ]
  },
  {
   "cell_type": "code",
   "execution_count": 11,
   "metadata": {},
   "outputs": [],
   "source": [
    "def get_train_data(tournaments):\n",
    "    ids, question_ids, answer = [], [], []\n",
    "    current_id = 1\n",
    "    for value in tqdm(tournaments):\n",
    "        tournament_id = value['id']\n",
    "        info = results[tournament_id]\n",
    "        mask_size = sum(value['questionQty'].values())\n",
    "        ques_id_range = np.arange(current_id, current_id+mask_size)\n",
    "        for team in info:\n",
    "            mask = team['mask']\n",
    "            team_players_id = [i['player']['id'] for i in team['teamMembers']]\n",
    "            if '?' not in mask and len(mask) == mask_size:\n",
    "                mask = mask.replace('X', '')\n",
    "                mask_items = np.array(list(map(int, list(mask))))\n",
    "                for q_ind, item in enumerate(mask_items):\n",
    "                    for player in team_players_id:\n",
    "                        ids.append(player)\n",
    "                        question_ids.append(ques_id_range[q_ind])\n",
    "                        answer.append(item)\n",
    "        current_id += mask_size\n",
    "                    \n",
    "    return ids, question_ids, answer"
   ]
  },
  {
   "cell_type": "code",
   "execution_count": 12,
   "metadata": {},
   "outputs": [
    {
     "data": {
      "application/vnd.jupyter.widget-view+json": {
       "model_id": "b9c6f618b42a43148879a761acebac59",
       "version_major": 2,
       "version_minor": 0
      },
      "text/plain": [
       "HBox(children=(FloatProgress(value=0.0, max=671.0), HTML(value='')))"
      ]
     },
     "metadata": {},
     "output_type": "display_data"
    },
    {
     "name": "stdout",
     "output_type": "stream",
     "text": [
      "\n"
     ]
    }
   ],
   "source": [
    "ids, question_ids, answer = get_train_data(train)"
   ]
  },
  {
   "cell_type": "code",
   "execution_count": 13,
   "metadata": {},
   "outputs": [
    {
     "data": {
      "text/html": [
       "<div>\n",
       "<style scoped>\n",
       "    .dataframe tbody tr th:only-of-type {\n",
       "        vertical-align: middle;\n",
       "    }\n",
       "\n",
       "    .dataframe tbody tr th {\n",
       "        vertical-align: top;\n",
       "    }\n",
       "\n",
       "    .dataframe thead th {\n",
       "        text-align: right;\n",
       "    }\n",
       "</style>\n",
       "<table border=\"1\" class=\"dataframe\">\n",
       "  <thead>\n",
       "    <tr style=\"text-align: right;\">\n",
       "      <th></th>\n",
       "      <th>player_id</th>\n",
       "      <th>question_id</th>\n",
       "      <th>answer</th>\n",
       "    </tr>\n",
       "  </thead>\n",
       "  <tbody>\n",
       "    <tr>\n",
       "      <th>0</th>\n",
       "      <td>6212</td>\n",
       "      <td>1</td>\n",
       "      <td>1</td>\n",
       "    </tr>\n",
       "    <tr>\n",
       "      <th>1</th>\n",
       "      <td>18332</td>\n",
       "      <td>1</td>\n",
       "      <td>1</td>\n",
       "    </tr>\n",
       "    <tr>\n",
       "      <th>2</th>\n",
       "      <td>18036</td>\n",
       "      <td>1</td>\n",
       "      <td>1</td>\n",
       "    </tr>\n",
       "    <tr>\n",
       "      <th>3</th>\n",
       "      <td>22799</td>\n",
       "      <td>1</td>\n",
       "      <td>1</td>\n",
       "    </tr>\n",
       "    <tr>\n",
       "      <th>4</th>\n",
       "      <td>15456</td>\n",
       "      <td>1</td>\n",
       "      <td>1</td>\n",
       "    </tr>\n",
       "  </tbody>\n",
       "</table>\n",
       "</div>"
      ],
      "text/plain": [
       "   player_id  question_id  answer\n",
       "0       6212            1       1\n",
       "1      18332            1       1\n",
       "2      18036            1       1\n",
       "3      22799            1       1\n",
       "4      15456            1       1"
      ]
     },
     "execution_count": 13,
     "metadata": {},
     "output_type": "execute_result"
    }
   ],
   "source": [
    "df_train = pd.DataFrame({'player_id': ids, 'question_id': question_ids, 'answer': answer})\n",
    "df_train.head()"
   ]
  },
  {
   "cell_type": "code",
   "execution_count": 17,
   "metadata": {},
   "outputs": [],
   "source": [
    "from sklearn.preprocessing import OneHotEncoder\n",
    "from sklearn.linear_model import LogisticRegression\n",
    "import scipy.sparse as scp"
   ]
  },
  {
   "cell_type": "code",
   "execution_count": 28,
   "metadata": {},
   "outputs": [],
   "source": [
    "encoder_pla = OneHotEncoder()\n",
    "encoder_que = OneHotEncoder()\n",
    "\n",
    "player_data = encoder_pla.fit_transform(df_train[['player_id']])\n",
    "question_data = encoder_que.fit_transform(df_train[['question_id']])\n",
    "train = scp.hstack([player_data, question_data])"
   ]
  },
  {
   "cell_type": "code",
   "execution_count": 29,
   "metadata": {},
   "outputs": [
    {
     "data": {
      "text/plain": [
       "((17685248, 57329), (17685248, 32905), (17685248, 90234))"
      ]
     },
     "execution_count": 29,
     "metadata": {},
     "output_type": "execute_result"
    }
   ],
   "source": [
    "player_data.shape, question_data.shape, train.shape"
   ]
  },
  {
   "cell_type": "code",
   "execution_count": 30,
   "metadata": {},
   "outputs": [],
   "source": [
    "target = df_train.answer.to_numpy()"
   ]
  },
  {
   "cell_type": "code",
   "execution_count": 31,
   "metadata": {},
   "outputs": [
    {
     "name": "stderr",
     "output_type": "stream",
     "text": [
      "/Users/pavel/opt/anaconda3/lib/python3.7/site-packages/sklearn/linear_model/_logistic.py:940: ConvergenceWarning: lbfgs failed to converge (status=1):\n",
      "STOP: TOTAL NO. of ITERATIONS REACHED LIMIT.\n",
      "\n",
      "Increase the number of iterations (max_iter) or scale the data as shown in:\n",
      "    https://scikit-learn.org/stable/modules/preprocessing.html\n",
      "Please also refer to the documentation for alternative solver options:\n",
      "    https://scikit-learn.org/stable/modules/linear_model.html#logistic-regression\n",
      "  extra_warning_msg=_LOGISTIC_SOLVER_CONVERGENCE_MSG)\n"
     ]
    },
    {
     "data": {
      "text/plain": [
       "LogisticRegression(C=1.0, class_weight=None, dual=False, fit_intercept=True,\n",
       "                   intercept_scaling=1, l1_ratio=None, max_iter=100,\n",
       "                   multi_class='auto', n_jobs=None, penalty='l2',\n",
       "                   random_state=None, solver='lbfgs', tol=0.0001, verbose=0,\n",
       "                   warm_start=False)"
      ]
     },
     "execution_count": 31,
     "metadata": {},
     "output_type": "execute_result"
    }
   ],
   "source": [
    "logreg = LogisticRegression()\n",
    "logreg.fit(train, target)"
   ]
  },
  {
   "cell_type": "code",
   "execution_count": 53,
   "metadata": {
    "scrolled": true
   },
   "outputs": [],
   "source": [
    "players_rank = pd.DataFrame({'id': encoder_pla.categories_[0], 'rank': logreg.coef_[0][:len(encoder_pla.categories_[0])]})"
   ]
  },
  {
   "cell_type": "code",
   "execution_count": 56,
   "metadata": {
    "scrolled": true
   },
   "outputs": [],
   "source": [
    "players_rank = players_rank.merge(pd.DataFrame(pd.DataFrame(players.values())), how='left', \n",
    "                                                                                left_on='id',\n",
    "                                                                                right_on='id')"
   ]
  },
  {
   "cell_type": "code",
   "execution_count": 70,
   "metadata": {
    "scrolled": true
   },
   "outputs": [
    {
     "data": {
      "text/html": [
       "<div>\n",
       "<style scoped>\n",
       "    .dataframe tbody tr th:only-of-type {\n",
       "        vertical-align: middle;\n",
       "    }\n",
       "\n",
       "    .dataframe tbody tr th {\n",
       "        vertical-align: top;\n",
       "    }\n",
       "\n",
       "    .dataframe thead th {\n",
       "        text-align: right;\n",
       "    }\n",
       "</style>\n",
       "<table border=\"1\" class=\"dataframe\">\n",
       "  <thead>\n",
       "    <tr style=\"text-align: right;\">\n",
       "      <th></th>\n",
       "      <th>id</th>\n",
       "      <th>rank</th>\n",
       "      <th>name</th>\n",
       "      <th>patronymic</th>\n",
       "      <th>surname</th>\n",
       "    </tr>\n",
       "  </thead>\n",
       "  <tbody>\n",
       "    <tr>\n",
       "      <th>3859</th>\n",
       "      <td>27403</td>\n",
       "      <td>3.941128</td>\n",
       "      <td>Максим</td>\n",
       "      <td>Михайлович</td>\n",
       "      <td>Руссо</td>\n",
       "    </tr>\n",
       "    <tr>\n",
       "      <th>604</th>\n",
       "      <td>4270</td>\n",
       "      <td>3.845133</td>\n",
       "      <td>Александра</td>\n",
       "      <td>Владимировна</td>\n",
       "      <td>Брутер</td>\n",
       "    </tr>\n",
       "    <tr>\n",
       "      <th>3931</th>\n",
       "      <td>27822</td>\n",
       "      <td>3.484024</td>\n",
       "      <td>Михаил</td>\n",
       "      <td>Владимирович</td>\n",
       "      <td>Савченков</td>\n",
       "    </tr>\n",
       "    <tr>\n",
       "      <th>4048</th>\n",
       "      <td>28751</td>\n",
       "      <td>3.423060</td>\n",
       "      <td>Иван</td>\n",
       "      <td>Николаевич</td>\n",
       "      <td>Семушин</td>\n",
       "    </tr>\n",
       "    <tr>\n",
       "      <th>5176</th>\n",
       "      <td>37047</td>\n",
       "      <td>3.345671</td>\n",
       "      <td>Мария</td>\n",
       "      <td>Алексеевна</td>\n",
       "      <td>Юнгер</td>\n",
       "    </tr>\n",
       "    <tr>\n",
       "      <th>4236</th>\n",
       "      <td>30152</td>\n",
       "      <td>3.308988</td>\n",
       "      <td>Артём</td>\n",
       "      <td>Сергеевич</td>\n",
       "      <td>Сорожкин</td>\n",
       "    </tr>\n",
       "    <tr>\n",
       "      <th>2926</th>\n",
       "      <td>20691</td>\n",
       "      <td>3.292816</td>\n",
       "      <td>Станислав</td>\n",
       "      <td>Григорьевич</td>\n",
       "      <td>Мереминский</td>\n",
       "    </tr>\n",
       "    <tr>\n",
       "      <th>6715</th>\n",
       "      <td>56647</td>\n",
       "      <td>3.275960</td>\n",
       "      <td>Наталья</td>\n",
       "      <td>Евгеньевна</td>\n",
       "      <td>Горелова</td>\n",
       "    </tr>\n",
       "    <tr>\n",
       "      <th>4790</th>\n",
       "      <td>34328</td>\n",
       "      <td>3.249853</td>\n",
       "      <td>Михаил</td>\n",
       "      <td>Сергеевич</td>\n",
       "      <td>Царёв</td>\n",
       "    </tr>\n",
       "    <tr>\n",
       "      <th>2567</th>\n",
       "      <td>18036</td>\n",
       "      <td>3.243332</td>\n",
       "      <td>Михаил</td>\n",
       "      <td>Ильич</td>\n",
       "      <td>Левандовский</td>\n",
       "    </tr>\n",
       "    <tr>\n",
       "      <th>5358</th>\n",
       "      <td>38196</td>\n",
       "      <td>3.212911</td>\n",
       "      <td>Артём</td>\n",
       "      <td>Александрович</td>\n",
       "      <td>Митрофанов</td>\n",
       "    </tr>\n",
       "    <tr>\n",
       "      <th>3224</th>\n",
       "      <td>22799</td>\n",
       "      <td>3.194474</td>\n",
       "      <td>Сергей</td>\n",
       "      <td>Игоревич</td>\n",
       "      <td>Николенко</td>\n",
       "    </tr>\n",
       "    <tr>\n",
       "      <th>544</th>\n",
       "      <td>3843</td>\n",
       "      <td>3.194236</td>\n",
       "      <td>Светлана</td>\n",
       "      <td>Борисовна</td>\n",
       "      <td>Бомешко</td>\n",
       "    </tr>\n",
       "    <tr>\n",
       "      <th>4256</th>\n",
       "      <td>30270</td>\n",
       "      <td>3.185379</td>\n",
       "      <td>Сергей</td>\n",
       "      <td>Леонидович</td>\n",
       "      <td>Спешков</td>\n",
       "    </tr>\n",
       "    <tr>\n",
       "      <th>3241</th>\n",
       "      <td>22935</td>\n",
       "      <td>3.173648</td>\n",
       "      <td>Илья</td>\n",
       "      <td>Сергеевич</td>\n",
       "      <td>Новиков</td>\n",
       "    </tr>\n",
       "    <tr>\n",
       "      <th>594</th>\n",
       "      <td>4226</td>\n",
       "      <td>3.170467</td>\n",
       "      <td>Сусанна</td>\n",
       "      <td>Марковна</td>\n",
       "      <td>Бровер</td>\n",
       "    </tr>\n",
       "    <tr>\n",
       "      <th>55402</th>\n",
       "      <td>216863</td>\n",
       "      <td>3.148002</td>\n",
       "      <td>Глеб</td>\n",
       "      <td>Юрьевич</td>\n",
       "      <td>Гаврилов</td>\n",
       "    </tr>\n",
       "    <tr>\n",
       "      <th>8165</th>\n",
       "      <td>74001</td>\n",
       "      <td>3.140955</td>\n",
       "      <td>Игорь</td>\n",
       "      <td>Викторович</td>\n",
       "      <td>Мокин</td>\n",
       "    </tr>\n",
       "    <tr>\n",
       "      <th>1280</th>\n",
       "      <td>9061</td>\n",
       "      <td>3.135725</td>\n",
       "      <td>Евгений</td>\n",
       "      <td>Васильевич</td>\n",
       "      <td>Дёмин</td>\n",
       "    </tr>\n",
       "    <tr>\n",
       "      <th>2317</th>\n",
       "      <td>16332</td>\n",
       "      <td>3.135452</td>\n",
       "      <td>Николай</td>\n",
       "      <td>Валерьевич</td>\n",
       "      <td>Крапиль</td>\n",
       "    </tr>\n",
       "  </tbody>\n",
       "</table>\n",
       "</div>"
      ],
      "text/plain": [
       "           id      rank        name     patronymic       surname\n",
       "3859    27403  3.941128      Максим     Михайлович         Руссо\n",
       "604      4270  3.845133  Александра   Владимировна        Брутер\n",
       "3931    27822  3.484024      Михаил   Владимирович     Савченков\n",
       "4048    28751  3.423060        Иван     Николаевич       Семушин\n",
       "5176    37047  3.345671       Мария     Алексеевна         Юнгер\n",
       "4236    30152  3.308988       Артём      Сергеевич      Сорожкин\n",
       "2926    20691  3.292816   Станислав    Григорьевич   Мереминский\n",
       "6715    56647  3.275960     Наталья     Евгеньевна      Горелова\n",
       "4790    34328  3.249853      Михаил      Сергеевич         Царёв\n",
       "2567    18036  3.243332      Михаил          Ильич  Левандовский\n",
       "5358    38196  3.212911       Артём  Александрович    Митрофанов\n",
       "3224    22799  3.194474      Сергей       Игоревич     Николенко\n",
       "544      3843  3.194236    Светлана      Борисовна       Бомешко\n",
       "4256    30270  3.185379      Сергей     Леонидович       Спешков\n",
       "3241    22935  3.173648        Илья      Сергеевич       Новиков\n",
       "594      4226  3.170467     Сусанна       Марковна        Бровер\n",
       "55402  216863  3.148002        Глеб        Юрьевич      Гаврилов\n",
       "8165    74001  3.140955       Игорь     Викторович         Мокин\n",
       "1280     9061  3.135725     Евгений     Васильевич         Дёмин\n",
       "2317    16332  3.135452     Николай     Валерьевич       Крапиль"
      ]
     },
     "execution_count": 70,
     "metadata": {},
     "output_type": "execute_result"
    }
   ],
   "source": [
    "players_rank.sort_values('rank', ascending=False)[:20]"
   ]
  },
  {
   "cell_type": "markdown",
   "metadata": {},
   "source": [
    "# 3"
   ]
  },
  {
   "cell_type": "code",
   "execution_count": 61,
   "metadata": {},
   "outputs": [],
   "source": [
    "from scipy.stats import spearmanr, kendalltau"
   ]
  },
  {
   "cell_type": "markdown",
   "metadata": {},
   "source": [
    "предложите способ предсказать результаты нового турнира с известными составами, но неизвестными вопросами, в виде ранжирования команд.\n",
    "-Будем располагать команды благодаря усредненному рейтингу всех ее игроков."
   ]
  },
  {
   "cell_type": "code",
   "execution_count": null,
   "metadata": {},
   "outputs": [],
   "source": [
    "def correlation_calc(test):\n",
    "    result_spear, result_kendal = [], []\n",
    "\n",
    "    for value in tqdm(test):\n",
    "        id_team, position = [], []\n",
    "        rank_local = []\n",
    "        tournament_id = value['id']\n",
    "        info = results[tournament_id]\n",
    "        if len(info) > 1:\n",
    "            for num in info:\n",
    "                id_team.append(num['team']['id'])\n",
    "                position.append(num['position'])\n",
    "\n",
    "                mean_rank_team = []\n",
    "                for members in num['teamMembers']:\n",
    "                    if len(players_rank[players_rank['id'] == members['player']['id']]) != 0:\n",
    "                        mean_rank_team.append(players_rank[players_rank['id'] == members['player']['id']]['rank'].values[0])\n",
    "                    else:\n",
    "                        mean_rank_team.append(0)\n",
    "\n",
    "                rank_local.append(np.mean(mean_rank_team))\n",
    "\n",
    "            current_tournament = pd.DataFrame({'id_team': id_team, 'position': position, 'predict_rank': rank_local}).sort_values('predict_rank', ascending=False)\n",
    "            result_spear.append(spearmanr(current_tournament['position'], position)[0])\n",
    "            result_kendal.append(kendalltau(current_tournament['position'], position)[0])\n",
    "    \n",
    "    return np.mean(result_spear), np.mean(result_kendal)"
   ]
  },
  {
   "cell_type": "code",
   "execution_count": 131,
   "metadata": {},
   "outputs": [
    {
     "data": {
      "application/vnd.jupyter.widget-view+json": {
       "model_id": "a0dc3c38735641bab3845aeca1c7cc5e",
       "version_major": 2,
       "version_minor": 0
      },
      "text/plain": [
       "HBox(children=(FloatProgress(value=0.0, max=169.0), HTML(value='')))"
      ]
     },
     "metadata": {},
     "output_type": "display_data"
    },
    {
     "name": "stdout",
     "output_type": "stream",
     "text": [
      "\n"
     ]
    }
   ],
   "source": [
    "spear, kend = correlation_calc(test)"
   ]
  },
  {
   "cell_type": "code",
   "execution_count": 132,
   "metadata": {},
   "outputs": [
    {
     "name": "stdout",
     "output_type": "stream",
     "text": [
      "Корреляция Спирмена:0.7316470783348838\n",
      "Корреляция Кендела:0.5864375064336904\n"
     ]
    }
   ],
   "source": [
    "print(f'Корреляция Спирмена:{spear}')\n",
    "print(f'Корреляция Кендела:{kend}')"
   ]
  },
  {
   "cell_type": "code",
   "execution_count": null,
   "metadata": {},
   "outputs": [],
   "source": []
  },
  {
   "cell_type": "code",
   "execution_count": null,
   "metadata": {},
   "outputs": [],
   "source": []
  },
  {
   "cell_type": "code",
   "execution_count": null,
   "metadata": {},
   "outputs": [],
   "source": []
  },
  {
   "cell_type": "code",
   "execution_count": null,
   "metadata": {},
   "outputs": [],
   "source": []
  },
  {
   "cell_type": "code",
   "execution_count": null,
   "metadata": {},
   "outputs": [],
   "source": []
  },
  {
   "cell_type": "code",
   "execution_count": null,
   "metadata": {},
   "outputs": [],
   "source": []
  },
  {
   "cell_type": "code",
   "execution_count": null,
   "metadata": {},
   "outputs": [],
   "source": []
  },
  {
   "cell_type": "code",
   "execution_count": null,
   "metadata": {},
   "outputs": [],
   "source": []
  },
  {
   "cell_type": "code",
   "execution_count": null,
   "metadata": {},
   "outputs": [],
   "source": []
  },
  {
   "cell_type": "code",
   "execution_count": null,
   "metadata": {},
   "outputs": [],
   "source": []
  },
  {
   "cell_type": "code",
   "execution_count": null,
   "metadata": {},
   "outputs": [],
   "source": []
  }
 ],
 "metadata": {
  "kernelspec": {
   "display_name": "Python 3",
   "language": "python",
   "name": "python3"
  },
  "language_info": {
   "codemirror_mode": {
    "name": "ipython",
    "version": 3
   },
   "file_extension": ".py",
   "mimetype": "text/x-python",
   "name": "python",
   "nbconvert_exporter": "python",
   "pygments_lexer": "ipython3",
   "version": "3.7.4"
  }
 },
 "nbformat": 4,
 "nbformat_minor": 2
}
